{
  "nbformat": 4,
  "nbformat_minor": 0,
  "metadata": {
    "kernelspec": {
      "display_name": "Python 3",
      "language": "python",
      "name": "python3"
    },
    "language_info": {
      "codemirror_mode": {
        "name": "ipython",
        "version": 3
      },
      "file_extension": ".py",
      "mimetype": "text/x-python",
      "name": "python",
      "nbconvert_exporter": "python",
      "pygments_lexer": "ipython3",
      "version": "3.7.9"
    },
    "colab": {
      "name": "DNN_BOSTON.ipynb",
      "provenance": [],
      "collapsed_sections": [],
      "toc_visible": true,
      "include_colab_link": true
    }
  },
  "cells": [
    {
      "cell_type": "markdown",
      "metadata": {
        "id": "view-in-github",
        "colab_type": "text"
      },
      "source": [
        "<a href=\"https://colab.research.google.com/github/Dapo-dev/SpringMVC/blob/master/DNN_BOSTON.ipynb\" target=\"_parent\"><img src=\"https://colab.research.google.com/assets/colab-badge.svg\" alt=\"Open In Colab\"/></a>"
      ]
    },
    {
      "cell_type": "markdown",
      "metadata": {
        "id": "3t7rSb2d54zY"
      },
      "source": [
        "## **載入套件**"
      ]
    },
    {
      "cell_type": "code",
      "metadata": {
        "id": "PfQkDUrfl2Vh"
      },
      "source": [
        "import numpy as np\n",
        "import pandas as pd\n",
        "import matplotlib.pyplot as plt\n",
        "from keras import models\n",
        "from keras import layers\n",
        "from sklearn.neural_network import MLPRegressor"
      ],
      "execution_count": 1,
      "outputs": []
    },
    {
      "cell_type": "markdown",
      "metadata": {
        "id": "qJW0HfpAld-r"
      },
      "source": [
        "# **資料輸入**"
      ]
    },
    {
      "cell_type": "code",
      "metadata": {
        "id": "iw6mV5hXlSyh",
        "colab": {
          "resources": {
            "http://localhost:8080/nbextensions/google.colab/files.js": {
              "data": "Ly8gQ29weXJpZ2h0IDIwMTcgR29vZ2xlIExMQwovLwovLyBMaWNlbnNlZCB1bmRlciB0aGUgQXBhY2hlIExpY2Vuc2UsIFZlcnNpb24gMi4wICh0aGUgIkxpY2Vuc2UiKTsKLy8geW91IG1heSBub3QgdXNlIHRoaXMgZmlsZSBleGNlcHQgaW4gY29tcGxpYW5jZSB3aXRoIHRoZSBMaWNlbnNlLgovLyBZb3UgbWF5IG9idGFpbiBhIGNvcHkgb2YgdGhlIExpY2Vuc2UgYXQKLy8KLy8gICAgICBodHRwOi8vd3d3LmFwYWNoZS5vcmcvbGljZW5zZXMvTElDRU5TRS0yLjAKLy8KLy8gVW5sZXNzIHJlcXVpcmVkIGJ5IGFwcGxpY2FibGUgbGF3IG9yIGFncmVlZCB0byBpbiB3cml0aW5nLCBzb2Z0d2FyZQovLyBkaXN0cmlidXRlZCB1bmRlciB0aGUgTGljZW5zZSBpcyBkaXN0cmlidXRlZCBvbiBhbiAiQVMgSVMiIEJBU0lTLAovLyBXSVRIT1VUIFdBUlJBTlRJRVMgT1IgQ09ORElUSU9OUyBPRiBBTlkgS0lORCwgZWl0aGVyIGV4cHJlc3Mgb3IgaW1wbGllZC4KLy8gU2VlIHRoZSBMaWNlbnNlIGZvciB0aGUgc3BlY2lmaWMgbGFuZ3VhZ2UgZ292ZXJuaW5nIHBlcm1pc3Npb25zIGFuZAovLyBsaW1pdGF0aW9ucyB1bmRlciB0aGUgTGljZW5zZS4KCi8qKgogKiBAZmlsZW92ZXJ2aWV3IEhlbHBlcnMgZm9yIGdvb2dsZS5jb2xhYiBQeXRob24gbW9kdWxlLgogKi8KKGZ1bmN0aW9uKHNjb3BlKSB7CmZ1bmN0aW9uIHNwYW4odGV4dCwgc3R5bGVBdHRyaWJ1dGVzID0ge30pIHsKICBjb25zdCBlbGVtZW50ID0gZG9jdW1lbnQuY3JlYXRlRWxlbWVudCgnc3BhbicpOwogIGVsZW1lbnQudGV4dENvbnRlbnQgPSB0ZXh0OwogIGZvciAoY29uc3Qga2V5IG9mIE9iamVjdC5rZXlzKHN0eWxlQXR0cmlidXRlcykpIHsKICAgIGVsZW1lbnQuc3R5bGVba2V5XSA9IHN0eWxlQXR0cmlidXRlc1trZXldOwogIH0KICByZXR1cm4gZWxlbWVudDsKfQoKLy8gTWF4IG51bWJlciBvZiBieXRlcyB3aGljaCB3aWxsIGJlIHVwbG9hZGVkIGF0IGEgdGltZS4KY29uc3QgTUFYX1BBWUxPQURfU0laRSA9IDEwMCAqIDEwMjQ7CgpmdW5jdGlvbiBfdXBsb2FkRmlsZXMoaW5wdXRJZCwgb3V0cHV0SWQpIHsKICBjb25zdCBzdGVwcyA9IHVwbG9hZEZpbGVzU3RlcChpbnB1dElkLCBvdXRwdXRJZCk7CiAgY29uc3Qgb3V0cHV0RWxlbWVudCA9IGRvY3VtZW50LmdldEVsZW1lbnRCeUlkKG91dHB1dElkKTsKICAvLyBDYWNoZSBzdGVwcyBvbiB0aGUgb3V0cHV0RWxlbWVudCB0byBtYWtlIGl0IGF2YWlsYWJsZSBmb3IgdGhlIG5leHQgY2FsbAogIC8vIHRvIHVwbG9hZEZpbGVzQ29udGludWUgZnJvbSBQeXRob24uCiAgb3V0cHV0RWxlbWVudC5zdGVwcyA9IHN0ZXBzOwoKICByZXR1cm4gX3VwbG9hZEZpbGVzQ29udGludWUob3V0cHV0SWQpOwp9CgovLyBUaGlzIGlzIHJvdWdobHkgYW4gYXN5bmMgZ2VuZXJhdG9yIChub3Qgc3VwcG9ydGVkIGluIHRoZSBicm93c2VyIHlldCksCi8vIHdoZXJlIHRoZXJlIGFyZSBtdWx0aXBsZSBhc3luY2hyb25vdXMgc3RlcHMgYW5kIHRoZSBQeXRob24gc2lkZSBpcyBnb2luZwovLyB0byBwb2xsIGZvciBjb21wbGV0aW9uIG9mIGVhY2ggc3RlcC4KLy8gVGhpcyB1c2VzIGEgUHJvbWlzZSB0byBibG9jayB0aGUgcHl0aG9uIHNpZGUgb24gY29tcGxldGlvbiBvZiBlYWNoIHN0ZXAsCi8vIHRoZW4gcGFzc2VzIHRoZSByZXN1bHQgb2YgdGhlIHByZXZpb3VzIHN0ZXAgYXMgdGhlIGlucHV0IHRvIHRoZSBuZXh0IHN0ZXAuCmZ1bmN0aW9uIF91cGxvYWRGaWxlc0NvbnRpbnVlKG91dHB1dElkKSB7CiAgY29uc3Qgb3V0cHV0RWxlbWVudCA9IGRvY3VtZW50LmdldEVsZW1lbnRCeUlkKG91dHB1dElkKTsKICBjb25zdCBzdGVwcyA9IG91dHB1dEVsZW1lbnQuc3RlcHM7CgogIGNvbnN0IG5leHQgPSBzdGVwcy5uZXh0KG91dHB1dEVsZW1lbnQubGFzdFByb21pc2VWYWx1ZSk7CiAgcmV0dXJuIFByb21pc2UucmVzb2x2ZShuZXh0LnZhbHVlLnByb21pc2UpLnRoZW4oKHZhbHVlKSA9PiB7CiAgICAvLyBDYWNoZSB0aGUgbGFzdCBwcm9taXNlIHZhbHVlIHRvIG1ha2UgaXQgYXZhaWxhYmxlIHRvIHRoZSBuZXh0CiAgICAvLyBzdGVwIG9mIHRoZSBnZW5lcmF0b3IuCiAgICBvdXRwdXRFbGVtZW50Lmxhc3RQcm9taXNlVmFsdWUgPSB2YWx1ZTsKICAgIHJldHVybiBuZXh0LnZhbHVlLnJlc3BvbnNlOwogIH0pOwp9CgovKioKICogR2VuZXJhdG9yIGZ1bmN0aW9uIHdoaWNoIGlzIGNhbGxlZCBiZXR3ZWVuIGVhY2ggYXN5bmMgc3RlcCBvZiB0aGUgdXBsb2FkCiAqIHByb2Nlc3MuCiAqIEBwYXJhbSB7c3RyaW5nfSBpbnB1dElkIEVsZW1lbnQgSUQgb2YgdGhlIGlucHV0IGZpbGUgcGlja2VyIGVsZW1lbnQuCiAqIEBwYXJhbSB7c3RyaW5nfSBvdXRwdXRJZCBFbGVtZW50IElEIG9mIHRoZSBvdXRwdXQgZGlzcGxheS4KICogQHJldHVybiB7IUl0ZXJhYmxlPCFPYmplY3Q+fSBJdGVyYWJsZSBvZiBuZXh0IHN0ZXBzLgogKi8KZnVuY3Rpb24qIHVwbG9hZEZpbGVzU3RlcChpbnB1dElkLCBvdXRwdXRJZCkgewogIGNvbnN0IGlucHV0RWxlbWVudCA9IGRvY3VtZW50LmdldEVsZW1lbnRCeUlkKGlucHV0SWQpOwogIGlucHV0RWxlbWVudC5kaXNhYmxlZCA9IGZhbHNlOwoKICBjb25zdCBvdXRwdXRFbGVtZW50ID0gZG9jdW1lbnQuZ2V0RWxlbWVudEJ5SWQob3V0cHV0SWQpOwogIG91dHB1dEVsZW1lbnQuaW5uZXJIVE1MID0gJyc7CgogIGNvbnN0IHBpY2tlZFByb21pc2UgPSBuZXcgUHJvbWlzZSgocmVzb2x2ZSkgPT4gewogICAgaW5wdXRFbGVtZW50LmFkZEV2ZW50TGlzdGVuZXIoJ2NoYW5nZScsIChlKSA9PiB7CiAgICAgIHJlc29sdmUoZS50YXJnZXQuZmlsZXMpOwogICAgfSk7CiAgfSk7CgogIGNvbnN0IGNhbmNlbCA9IGRvY3VtZW50LmNyZWF0ZUVsZW1lbnQoJ2J1dHRvbicpOwogIGlucHV0RWxlbWVudC5wYXJlbnRFbGVtZW50LmFwcGVuZENoaWxkKGNhbmNlbCk7CiAgY2FuY2VsLnRleHRDb250ZW50ID0gJ0NhbmNlbCB1cGxvYWQnOwogIGNvbnN0IGNhbmNlbFByb21pc2UgPSBuZXcgUHJvbWlzZSgocmVzb2x2ZSkgPT4gewogICAgY2FuY2VsLm9uY2xpY2sgPSAoKSA9PiB7CiAgICAgIHJlc29sdmUobnVsbCk7CiAgICB9OwogIH0pOwoKICAvLyBXYWl0IGZvciB0aGUgdXNlciB0byBwaWNrIHRoZSBmaWxlcy4KICBjb25zdCBmaWxlcyA9IHlpZWxkIHsKICAgIHByb21pc2U6IFByb21pc2UucmFjZShbcGlja2VkUHJvbWlzZSwgY2FuY2VsUHJvbWlzZV0pLAogICAgcmVzcG9uc2U6IHsKICAgICAgYWN0aW9uOiAnc3RhcnRpbmcnLAogICAgfQogIH07CgogIGNhbmNlbC5yZW1vdmUoKTsKCiAgLy8gRGlzYWJsZSB0aGUgaW5wdXQgZWxlbWVudCBzaW5jZSBmdXJ0aGVyIHBpY2tzIGFyZSBub3QgYWxsb3dlZC4KICBpbnB1dEVsZW1lbnQuZGlzYWJsZWQgPSB0cnVlOwoKICBpZiAoIWZpbGVzKSB7CiAgICByZXR1cm4gewogICAgICByZXNwb25zZTogewogICAgICAgIGFjdGlvbjogJ2NvbXBsZXRlJywKICAgICAgfQogICAgfTsKICB9CgogIGZvciAoY29uc3QgZmlsZSBvZiBmaWxlcykgewogICAgY29uc3QgbGkgPSBkb2N1bWVudC5jcmVhdGVFbGVtZW50KCdsaScpOwogICAgbGkuYXBwZW5kKHNwYW4oZmlsZS5uYW1lLCB7Zm9udFdlaWdodDogJ2JvbGQnfSkpOwogICAgbGkuYXBwZW5kKHNwYW4oCiAgICAgICAgYCgke2ZpbGUudHlwZSB8fCAnbi9hJ30pIC0gJHtmaWxlLnNpemV9IGJ5dGVzLCBgICsKICAgICAgICBgbGFzdCBtb2RpZmllZDogJHsKICAgICAgICAgICAgZmlsZS5sYXN0TW9kaWZpZWREYXRlID8gZmlsZS5sYXN0TW9kaWZpZWREYXRlLnRvTG9jYWxlRGF0ZVN0cmluZygpIDoKICAgICAgICAgICAgICAgICAgICAgICAgICAgICAgICAgICAgJ24vYSd9IC0gYCkpOwogICAgY29uc3QgcGVyY2VudCA9IHNwYW4oJzAlIGRvbmUnKTsKICAgIGxpLmFwcGVuZENoaWxkKHBlcmNlbnQpOwoKICAgIG91dHB1dEVsZW1lbnQuYXBwZW5kQ2hpbGQobGkpOwoKICAgIGNvbnN0IGZpbGVEYXRhUHJvbWlzZSA9IG5ldyBQcm9taXNlKChyZXNvbHZlKSA9PiB7CiAgICAgIGNvbnN0IHJlYWRlciA9IG5ldyBGaWxlUmVhZGVyKCk7CiAgICAgIHJlYWRlci5vbmxvYWQgPSAoZSkgPT4gewogICAgICAgIHJlc29sdmUoZS50YXJnZXQucmVzdWx0KTsKICAgICAgfTsKICAgICAgcmVhZGVyLnJlYWRBc0FycmF5QnVmZmVyKGZpbGUpOwogICAgfSk7CiAgICAvLyBXYWl0IGZvciB0aGUgZGF0YSB0byBiZSByZWFkeS4KICAgIGxldCBmaWxlRGF0YSA9IHlpZWxkIHsKICAgICAgcHJvbWlzZTogZmlsZURhdGFQcm9taXNlLAogICAgICByZXNwb25zZTogewogICAgICAgIGFjdGlvbjogJ2NvbnRpbnVlJywKICAgICAgfQogICAgfTsKCiAgICAvLyBVc2UgYSBjaHVua2VkIHNlbmRpbmcgdG8gYXZvaWQgbWVzc2FnZSBzaXplIGxpbWl0cy4gU2VlIGIvNjIxMTU2NjAuCiAgICBsZXQgcG9zaXRpb24gPSAwOwogICAgZG8gewogICAgICBjb25zdCBsZW5ndGggPSBNYXRoLm1pbihmaWxlRGF0YS5ieXRlTGVuZ3RoIC0gcG9zaXRpb24sIE1BWF9QQVlMT0FEX1NJWkUpOwogICAgICBjb25zdCBjaHVuayA9IG5ldyBVaW50OEFycmF5KGZpbGVEYXRhLCBwb3NpdGlvbiwgbGVuZ3RoKTsKICAgICAgcG9zaXRpb24gKz0gbGVuZ3RoOwoKICAgICAgY29uc3QgYmFzZTY0ID0gYnRvYShTdHJpbmcuZnJvbUNoYXJDb2RlLmFwcGx5KG51bGwsIGNodW5rKSk7CiAgICAgIHlpZWxkIHsKICAgICAgICByZXNwb25zZTogewogICAgICAgICAgYWN0aW9uOiAnYXBwZW5kJywKICAgICAgICAgIGZpbGU6IGZpbGUubmFtZSwKICAgICAgICAgIGRhdGE6IGJhc2U2NCwKICAgICAgICB9LAogICAgICB9OwoKICAgICAgbGV0IHBlcmNlbnREb25lID0gZmlsZURhdGEuYnl0ZUxlbmd0aCA9PT0gMCA/CiAgICAgICAgICAxMDAgOgogICAgICAgICAgTWF0aC5yb3VuZCgocG9zaXRpb24gLyBmaWxlRGF0YS5ieXRlTGVuZ3RoKSAqIDEwMCk7CiAgICAgIHBlcmNlbnQudGV4dENvbnRlbnQgPSBgJHtwZXJjZW50RG9uZX0lIGRvbmVgOwoKICAgIH0gd2hpbGUgKHBvc2l0aW9uIDwgZmlsZURhdGEuYnl0ZUxlbmd0aCk7CiAgfQoKICAvLyBBbGwgZG9uZS4KICB5aWVsZCB7CiAgICByZXNwb25zZTogewogICAgICBhY3Rpb246ICdjb21wbGV0ZScsCiAgICB9CiAgfTsKfQoKc2NvcGUuZ29vZ2xlID0gc2NvcGUuZ29vZ2xlIHx8IHt9OwpzY29wZS5nb29nbGUuY29sYWIgPSBzY29wZS5nb29nbGUuY29sYWIgfHwge307CnNjb3BlLmdvb2dsZS5jb2xhYi5fZmlsZXMgPSB7CiAgX3VwbG9hZEZpbGVzLAogIF91cGxvYWRGaWxlc0NvbnRpbnVlLAp9Owp9KShzZWxmKTsK",
              "ok": true,
              "headers": [
                [
                  "content-type",
                  "application/javascript"
                ]
              ],
              "status": 200,
              "status_text": ""
            }
          },
          "base_uri": "https://localhost:8080/",
          "height": 58
        },
        "outputId": "297a9f2c-49ab-41e5-9837-427cdc05b4e4"
      },
      "source": [
        "from google.colab import files\n",
        "uploaded=files.upload()"
      ],
      "execution_count": 2,
      "outputs": [
        {
          "output_type": "display_data",
          "data": {
            "text/html": [
              "\n",
              "     <input type=\"file\" id=\"files-cd32e0ee-51bf-48d7-8f6a-74388892ba93\" name=\"files[]\" multiple disabled\n",
              "        style=\"border:none\" />\n",
              "     <output id=\"result-cd32e0ee-51bf-48d7-8f6a-74388892ba93\">\n",
              "      Upload widget is only available when the cell has been executed in the\n",
              "      current browser session. Please rerun this cell to enable.\n",
              "      </output>\n",
              "      <script src=\"/nbextensions/google.colab/files.js\"></script> "
            ],
            "text/plain": [
              "<IPython.core.display.HTML object>"
            ]
          },
          "metadata": {}
        },
        {
          "output_type": "stream",
          "name": "stdout",
          "text": [
            "Saving boston.csv to boston.csv\n"
          ]
        }
      ]
    },
    {
      "cell_type": "code",
      "metadata": {
        "id": "O8nB0tC8lTCm",
        "colab": {
          "base_uri": "https://localhost:8080/",
          "height": 206
        },
        "outputId": "692ae50b-e7ce-4bbc-ec2d-efde23551a1d"
      },
      "source": [
        "data=pd.read_csv('boston.csv',header=0)\n",
        "data.head()"
      ],
      "execution_count": 3,
      "outputs": [
        {
          "output_type": "execute_result",
          "data": {
            "text/html": [
              "<div>\n",
              "<style scoped>\n",
              "    .dataframe tbody tr th:only-of-type {\n",
              "        vertical-align: middle;\n",
              "    }\n",
              "\n",
              "    .dataframe tbody tr th {\n",
              "        vertical-align: top;\n",
              "    }\n",
              "\n",
              "    .dataframe thead th {\n",
              "        text-align: right;\n",
              "    }\n",
              "</style>\n",
              "<table border=\"1\" class=\"dataframe\">\n",
              "  <thead>\n",
              "    <tr style=\"text-align: right;\">\n",
              "      <th></th>\n",
              "      <th>CRIM</th>\n",
              "      <th>ZN</th>\n",
              "      <th>INDUS</th>\n",
              "      <th>CHAS</th>\n",
              "      <th>NOX</th>\n",
              "      <th>RM</th>\n",
              "      <th>AGE</th>\n",
              "      <th>DIS</th>\n",
              "      <th>RAD</th>\n",
              "      <th>TAX</th>\n",
              "      <th>PTRATIO</th>\n",
              "      <th>B</th>\n",
              "      <th>LSTAT</th>\n",
              "      <th>MEDV</th>\n",
              "    </tr>\n",
              "  </thead>\n",
              "  <tbody>\n",
              "    <tr>\n",
              "      <th>0</th>\n",
              "      <td>0.006</td>\n",
              "      <td>18.0</td>\n",
              "      <td>2.31</td>\n",
              "      <td>0</td>\n",
              "      <td>0.538</td>\n",
              "      <td>6.575</td>\n",
              "      <td>65.2</td>\n",
              "      <td>4.090</td>\n",
              "      <td>1</td>\n",
              "      <td>296</td>\n",
              "      <td>15.3</td>\n",
              "      <td>396.90</td>\n",
              "      <td>4.98</td>\n",
              "      <td>24.0</td>\n",
              "    </tr>\n",
              "    <tr>\n",
              "      <th>1</th>\n",
              "      <td>0.027</td>\n",
              "      <td>0.0</td>\n",
              "      <td>7.07</td>\n",
              "      <td>0</td>\n",
              "      <td>0.469</td>\n",
              "      <td>6.421</td>\n",
              "      <td>78.9</td>\n",
              "      <td>4.967</td>\n",
              "      <td>2</td>\n",
              "      <td>242</td>\n",
              "      <td>17.8</td>\n",
              "      <td>396.90</td>\n",
              "      <td>9.14</td>\n",
              "      <td>21.6</td>\n",
              "    </tr>\n",
              "    <tr>\n",
              "      <th>2</th>\n",
              "      <td>0.027</td>\n",
              "      <td>0.0</td>\n",
              "      <td>7.07</td>\n",
              "      <td>0</td>\n",
              "      <td>0.469</td>\n",
              "      <td>7.185</td>\n",
              "      <td>61.1</td>\n",
              "      <td>4.967</td>\n",
              "      <td>2</td>\n",
              "      <td>242</td>\n",
              "      <td>17.8</td>\n",
              "      <td>392.83</td>\n",
              "      <td>4.03</td>\n",
              "      <td>34.7</td>\n",
              "    </tr>\n",
              "    <tr>\n",
              "      <th>3</th>\n",
              "      <td>0.032</td>\n",
              "      <td>0.0</td>\n",
              "      <td>2.18</td>\n",
              "      <td>0</td>\n",
              "      <td>0.458</td>\n",
              "      <td>6.998</td>\n",
              "      <td>45.8</td>\n",
              "      <td>6.062</td>\n",
              "      <td>3</td>\n",
              "      <td>222</td>\n",
              "      <td>18.7</td>\n",
              "      <td>394.63</td>\n",
              "      <td>2.94</td>\n",
              "      <td>33.4</td>\n",
              "    </tr>\n",
              "    <tr>\n",
              "      <th>4</th>\n",
              "      <td>0.069</td>\n",
              "      <td>0.0</td>\n",
              "      <td>2.18</td>\n",
              "      <td>0</td>\n",
              "      <td>0.458</td>\n",
              "      <td>7.147</td>\n",
              "      <td>54.2</td>\n",
              "      <td>6.062</td>\n",
              "      <td>3</td>\n",
              "      <td>222</td>\n",
              "      <td>18.7</td>\n",
              "      <td>396.90</td>\n",
              "      <td>5.33</td>\n",
              "      <td>36.2</td>\n",
              "    </tr>\n",
              "  </tbody>\n",
              "</table>\n",
              "</div>"
            ],
            "text/plain": [
              "    CRIM    ZN  INDUS  CHAS    NOX  ...  TAX  PTRATIO       B  LSTAT  MEDV\n",
              "0  0.006  18.0   2.31     0  0.538  ...  296     15.3  396.90   4.98  24.0\n",
              "1  0.027   0.0   7.07     0  0.469  ...  242     17.8  396.90   9.14  21.6\n",
              "2  0.027   0.0   7.07     0  0.469  ...  242     17.8  392.83   4.03  34.7\n",
              "3  0.032   0.0   2.18     0  0.458  ...  222     18.7  394.63   2.94  33.4\n",
              "4  0.069   0.0   2.18     0  0.458  ...  222     18.7  396.90   5.33  36.2\n",
              "\n",
              "[5 rows x 14 columns]"
            ]
          },
          "metadata": {},
          "execution_count": 3
        }
      ]
    },
    {
      "cell_type": "markdown",
      "metadata": {
        "id": "l4oEpzFX6Dwi"
      },
      "source": [
        "# **資料編碼（標準化）**"
      ]
    },
    {
      "cell_type": "code",
      "metadata": {
        "id": "FZ2yXOnc5-m1",
        "colab": {
          "base_uri": "https://localhost:8080/"
        },
        "outputId": "9d2a18a8-abe8-461d-dbae-8306d6fc0b7c"
      },
      "source": [
        "data.info()"
      ],
      "execution_count": 4,
      "outputs": [
        {
          "output_type": "stream",
          "name": "stdout",
          "text": [
            "<class 'pandas.core.frame.DataFrame'>\n",
            "RangeIndex: 506 entries, 0 to 505\n",
            "Data columns (total 14 columns):\n",
            " #   Column   Non-Null Count  Dtype  \n",
            "---  ------   --------------  -----  \n",
            " 0   CRIM     506 non-null    float64\n",
            " 1   ZN       506 non-null    float64\n",
            " 2   INDUS    506 non-null    float64\n",
            " 3   CHAS     506 non-null    int64  \n",
            " 4   NOX      506 non-null    float64\n",
            " 5   RM       506 non-null    float64\n",
            " 6   AGE      506 non-null    float64\n",
            " 7   DIS      506 non-null    float64\n",
            " 8   RAD      506 non-null    int64  \n",
            " 9   TAX      506 non-null    int64  \n",
            " 10  PTRATIO  506 non-null    float64\n",
            " 11  B        506 non-null    float64\n",
            " 12  LSTAT    506 non-null    float64\n",
            " 13  MEDV     506 non-null    float64\n",
            "dtypes: float64(11), int64(3)\n",
            "memory usage: 55.5 KB\n"
          ]
        }
      ]
    },
    {
      "cell_type": "code",
      "metadata": {
        "id": "1vt8mjZG6WPK",
        "colab": {
          "base_uri": "https://localhost:8080/"
        },
        "outputId": "161a802c-b631-4bc8-8a80-6bfabca1cc03"
      },
      "source": [
        "data=data.astype(np.float32)\n",
        "data.info()"
      ],
      "execution_count": 5,
      "outputs": [
        {
          "output_type": "stream",
          "name": "stdout",
          "text": [
            "<class 'pandas.core.frame.DataFrame'>\n",
            "RangeIndex: 506 entries, 0 to 505\n",
            "Data columns (total 14 columns):\n",
            " #   Column   Non-Null Count  Dtype  \n",
            "---  ------   --------------  -----  \n",
            " 0   CRIM     506 non-null    float32\n",
            " 1   ZN       506 non-null    float32\n",
            " 2   INDUS    506 non-null    float32\n",
            " 3   CHAS     506 non-null    float32\n",
            " 4   NOX      506 non-null    float32\n",
            " 5   RM       506 non-null    float32\n",
            " 6   AGE      506 non-null    float32\n",
            " 7   DIS      506 non-null    float32\n",
            " 8   RAD      506 non-null    float32\n",
            " 9   TAX      506 non-null    float32\n",
            " 10  PTRATIO  506 non-null    float32\n",
            " 11  B        506 non-null    float32\n",
            " 12  LSTAT    506 non-null    float32\n",
            " 13  MEDV     506 non-null    float32\n",
            "dtypes: float32(14)\n",
            "memory usage: 27.8 KB\n"
          ]
        }
      ]
    },
    {
      "cell_type": "code",
      "metadata": {
        "id": "x4a2LL_l6cpW"
      },
      "source": [
        "cols_to_norm = ['CRIM', 'ZN', 'INDUS', 'CHAS','NOX', 'RM','AGE', 'DIS', 'RAD', 'TAX', 'PTRATIO', 'B', 'LSTAT', 'MEDV']\n",
        "data[cols_to_norm] = data[cols_to_norm].apply(lambda x: (x - x.min()) / (x.max() - x.min())*0.6+0.2)"
      ],
      "execution_count": 6,
      "outputs": []
    },
    {
      "cell_type": "code",
      "metadata": {
        "id": "9AhF6Y366jxB",
        "colab": {
          "base_uri": "https://localhost:8080/",
          "height": 206
        },
        "outputId": "d30aace4-9f0a-4a2b-820b-a01194e1cabb"
      },
      "source": [
        "data.head()"
      ],
      "execution_count": 7,
      "outputs": [
        {
          "output_type": "execute_result",
          "data": {
            "text/html": [
              "<div>\n",
              "<style scoped>\n",
              "    .dataframe tbody tr th:only-of-type {\n",
              "        vertical-align: middle;\n",
              "    }\n",
              "\n",
              "    .dataframe tbody tr th {\n",
              "        vertical-align: top;\n",
              "    }\n",
              "\n",
              "    .dataframe thead th {\n",
              "        text-align: right;\n",
              "    }\n",
              "</style>\n",
              "<table border=\"1\" class=\"dataframe\">\n",
              "  <thead>\n",
              "    <tr style=\"text-align: right;\">\n",
              "      <th></th>\n",
              "      <th>CRIM</th>\n",
              "      <th>ZN</th>\n",
              "      <th>INDUS</th>\n",
              "      <th>CHAS</th>\n",
              "      <th>NOX</th>\n",
              "      <th>RM</th>\n",
              "      <th>AGE</th>\n",
              "      <th>DIS</th>\n",
              "      <th>RAD</th>\n",
              "      <th>TAX</th>\n",
              "      <th>PTRATIO</th>\n",
              "      <th>B</th>\n",
              "      <th>LSTAT</th>\n",
              "      <th>MEDV</th>\n",
              "    </tr>\n",
              "  </thead>\n",
              "  <tbody>\n",
              "    <tr>\n",
              "      <th>0</th>\n",
              "      <td>0.200000</td>\n",
              "      <td>0.308</td>\n",
              "      <td>0.240689</td>\n",
              "      <td>0.2</td>\n",
              "      <td>0.388889</td>\n",
              "      <td>0.546503</td>\n",
              "      <td>0.584964</td>\n",
              "      <td>0.361499</td>\n",
              "      <td>0.200000</td>\n",
              "      <td>0.324809</td>\n",
              "      <td>0.372340</td>\n",
              "      <td>0.800000</td>\n",
              "      <td>0.253808</td>\n",
              "      <td>0.453333</td>\n",
              "    </tr>\n",
              "    <tr>\n",
              "      <th>1</th>\n",
              "      <td>0.200142</td>\n",
              "      <td>0.200</td>\n",
              "      <td>0.345381</td>\n",
              "      <td>0.2</td>\n",
              "      <td>0.303704</td>\n",
              "      <td>0.528799</td>\n",
              "      <td>0.669619</td>\n",
              "      <td>0.409348</td>\n",
              "      <td>0.226087</td>\n",
              "      <td>0.262977</td>\n",
              "      <td>0.531915</td>\n",
              "      <td>0.800000</td>\n",
              "      <td>0.322682</td>\n",
              "      <td>0.421333</td>\n",
              "    </tr>\n",
              "    <tr>\n",
              "      <th>2</th>\n",
              "      <td>0.200142</td>\n",
              "      <td>0.200</td>\n",
              "      <td>0.345381</td>\n",
              "      <td>0.2</td>\n",
              "      <td>0.303704</td>\n",
              "      <td>0.616632</td>\n",
              "      <td>0.559629</td>\n",
              "      <td>0.409348</td>\n",
              "      <td>0.226087</td>\n",
              "      <td>0.262977</td>\n",
              "      <td>0.531915</td>\n",
              "      <td>0.793842</td>\n",
              "      <td>0.238079</td>\n",
              "      <td>0.596000</td>\n",
              "    </tr>\n",
              "    <tr>\n",
              "      <th>3</th>\n",
              "      <td>0.200175</td>\n",
              "      <td>0.200</td>\n",
              "      <td>0.237830</td>\n",
              "      <td>0.2</td>\n",
              "      <td>0.290123</td>\n",
              "      <td>0.595133</td>\n",
              "      <td>0.465088</td>\n",
              "      <td>0.469092</td>\n",
              "      <td>0.252174</td>\n",
              "      <td>0.240076</td>\n",
              "      <td>0.589362</td>\n",
              "      <td>0.796566</td>\n",
              "      <td>0.220033</td>\n",
              "      <td>0.578667</td>\n",
              "    </tr>\n",
              "    <tr>\n",
              "      <th>4</th>\n",
              "      <td>0.200425</td>\n",
              "      <td>0.200</td>\n",
              "      <td>0.237830</td>\n",
              "      <td>0.2</td>\n",
              "      <td>0.290123</td>\n",
              "      <td>0.612263</td>\n",
              "      <td>0.516993</td>\n",
              "      <td>0.469092</td>\n",
              "      <td>0.252174</td>\n",
              "      <td>0.240076</td>\n",
              "      <td>0.589362</td>\n",
              "      <td>0.800000</td>\n",
              "      <td>0.259603</td>\n",
              "      <td>0.616000</td>\n",
              "    </tr>\n",
              "  </tbody>\n",
              "</table>\n",
              "</div>"
            ],
            "text/plain": [
              "       CRIM     ZN     INDUS  CHAS  ...   PTRATIO         B     LSTAT      MEDV\n",
              "0  0.200000  0.308  0.240689   0.2  ...  0.372340  0.800000  0.253808  0.453333\n",
              "1  0.200142  0.200  0.345381   0.2  ...  0.531915  0.800000  0.322682  0.421333\n",
              "2  0.200142  0.200  0.345381   0.2  ...  0.531915  0.793842  0.238079  0.596000\n",
              "3  0.200175  0.200  0.237830   0.2  ...  0.589362  0.796566  0.220033  0.578667\n",
              "4  0.200425  0.200  0.237830   0.2  ...  0.589362  0.800000  0.259603  0.616000\n",
              "\n",
              "[5 rows x 14 columns]"
            ]
          },
          "metadata": {},
          "execution_count": 7
        }
      ]
    },
    {
      "cell_type": "markdown",
      "metadata": {
        "id": "FxEO-KIM6qcP"
      },
      "source": [
        "# **擷取分析資料欄位**"
      ]
    },
    {
      "cell_type": "code",
      "metadata": {
        "id": "H7fZt9YvbtK7"
      },
      "source": [
        "y=data['MEDV']"
      ],
      "execution_count": 8,
      "outputs": []
    },
    {
      "cell_type": "code",
      "metadata": {
        "id": "CLtpg4TF6p9W"
      },
      "source": [
        "data =data.drop(['MEDV'],axis=1)"
      ],
      "execution_count": 9,
      "outputs": []
    },
    {
      "cell_type": "markdown",
      "metadata": {
        "id": "aVLYlsf37L7H"
      },
      "source": [
        "# **分割資料：訓練與測試**"
      ]
    },
    {
      "cell_type": "code",
      "metadata": {
        "id": "wZenLVVQtWO-"
      },
      "source": [
        "from sklearn.model_selection import train_test_split\n",
        "X_train, X_test, y_train, y_test = train_test_split(data, y,test_size=0.33, random_state=101)"
      ],
      "execution_count": 10,
      "outputs": []
    },
    {
      "cell_type": "code",
      "metadata": {
        "id": "3vHgk6sVrIWK",
        "colab": {
          "base_uri": "https://localhost:8080/"
        },
        "outputId": "1ffcdb58-5b35-45d6-db56-b2257ffd5b17"
      },
      "source": [
        "X_train,y_train"
      ],
      "execution_count": 11,
      "outputs": [
        {
          "output_type": "execute_result",
          "data": {
            "text/plain": [
              "(         CRIM     ZN     INDUS  CHAS  ...       TAX   PTRATIO         B     LSTAT\n",
              " 178  0.200405  0.200  0.278959   0.2  ...  0.324809  0.455319  0.791482  0.285927\n",
              " 447  0.266892  0.200  0.587977   0.2  ...  0.748473  0.685106  0.787322  0.443543\n",
              " 445  0.271930  0.200  0.587977   0.2  ...  0.748473  0.685106  0.264663  0.568377\n",
              " 359  0.228695  0.200  0.587977   0.2  ...  0.748473  0.685106  0.790680  0.381126\n",
              " 281  0.200209  0.320  0.263123   0.2  ...  0.233206  0.346808  0.792935  0.247351\n",
              " ..        ...    ...       ...   ...  ...       ...       ...       ...       ...\n",
              " 63   0.200816  0.350  0.302713   0.2  ...  0.311069  0.653192  0.798003  0.328642\n",
              " 326  0.202003  0.200  0.352199   0.2  ...  0.314504  0.646809  0.800000  0.273179\n",
              " 337  0.200162  0.200  0.304032   0.2  ...  0.242366  0.685106  0.796838  0.346192\n",
              " 11   0.200749  0.275  0.362977   0.2  ...  0.341985  0.365957  0.800000  0.391060\n",
              " 351  0.200499  0.560  0.227053   0.2  ...  0.456489  0.563830  0.760482  0.262252\n",
              " \n",
              " [339 rows x 13 columns], 178    0.532000\n",
              " 447    0.301333\n",
              " 445    0.290667\n",
              " 359    0.434667\n",
              " 281    0.605333\n",
              "          ...   \n",
              " 63     0.466667\n",
              " 326    0.440000\n",
              " 337    0.380000\n",
              " 11     0.385333\n",
              " 351    0.454667\n",
              " Name: MEDV, Length: 339, dtype: float32)"
            ]
          },
          "metadata": {},
          "execution_count": 11
        }
      ]
    },
    {
      "cell_type": "code",
      "metadata": {
        "id": "o8foSIZ217n4",
        "colab": {
          "base_uri": "https://localhost:8080/"
        },
        "outputId": "51c063b5-f663-407d-8b4e-1a480529017b"
      },
      "source": [
        "X_test,y_test"
      ],
      "execution_count": 12,
      "outputs": [
        {
          "output_type": "execute_result",
          "data": {
            "text/plain": [
              "(         CRIM     ZN     INDUS  CHAS  ...       TAX   PTRATIO         B     LSTAT\n",
              " 195  0.200054  0.680  0.200000   0.2  ...  0.277863  0.314894  0.795960  0.220530\n",
              " 4    0.200425  0.200  0.237830   0.2  ...  0.240076  0.589362  0.800000  0.259603\n",
              " 434  0.293787  0.200  0.587977   0.2  ...  0.748473  0.685106  0.351763  0.422517\n",
              " 458  0.252238  0.200  0.587977   0.2  ...  0.748473  0.685106  0.611352  0.440066\n",
              " 39   0.200148  0.650  0.254765   0.2  ...  0.274427  0.563830  0.798079  0.242881\n",
              " ..        ...    ...       ...   ...  ...       ...       ...       ...       ...\n",
              " 257  0.204087  0.320  0.277199   0.2  ...  0.288168  0.225532  0.789107  0.256126\n",
              " 349  0.200155  0.440  0.217375   0.2  ...  0.369466  0.653192  0.789334  0.268874\n",
              " 289  0.200250  0.515  0.306892   0.2  ...  0.321374  0.455319  0.761904  0.328808\n",
              " 121  0.200445  0.200  0.754032   0.2  ...  0.201145  0.614894  0.770906  0.407616\n",
              " 9    0.201106  0.275  0.362977   0.2  ...  0.341985  0.365957  0.784583  0.454470\n",
              " \n",
              " [167 rows x 13 columns], 195    0.800000\n",
              " 4      0.616000\n",
              " 434    0.289333\n",
              " 458    0.332000\n",
              " 39     0.544000\n",
              "          ...   \n",
              " 257    0.800000\n",
              " 349    0.488000\n",
              " 289    0.464000\n",
              " 121    0.404000\n",
              " 9      0.385333\n",
              " Name: MEDV, Length: 167, dtype: float32)"
            ]
          },
          "metadata": {},
          "execution_count": 12
        }
      ]
    },
    {
      "cell_type": "code",
      "metadata": {
        "id": "FTXuzSHWusLM",
        "colab": {
          "base_uri": "https://localhost:8080/"
        },
        "outputId": "f784b466-6ad2-4733-8515-26b8ab06bc9a"
      },
      "source": [
        "X_train.info()"
      ],
      "execution_count": 13,
      "outputs": [
        {
          "output_type": "stream",
          "name": "stdout",
          "text": [
            "<class 'pandas.core.frame.DataFrame'>\n",
            "Int64Index: 339 entries, 178 to 351\n",
            "Data columns (total 13 columns):\n",
            " #   Column   Non-Null Count  Dtype  \n",
            "---  ------   --------------  -----  \n",
            " 0   CRIM     339 non-null    float32\n",
            " 1   ZN       339 non-null    float32\n",
            " 2   INDUS    339 non-null    float32\n",
            " 3   CHAS     339 non-null    float32\n",
            " 4   NOX      339 non-null    float32\n",
            " 5   RM       339 non-null    float32\n",
            " 6   AGE      339 non-null    float32\n",
            " 7   DIS      339 non-null    float32\n",
            " 8   RAD      339 non-null    float32\n",
            " 9   TAX      339 non-null    float32\n",
            " 10  PTRATIO  339 non-null    float32\n",
            " 11  B        339 non-null    float32\n",
            " 12  LSTAT    339 non-null    float32\n",
            "dtypes: float32(13)\n",
            "memory usage: 19.9 KB\n"
          ]
        }
      ]
    },
    {
      "cell_type": "markdown",
      "metadata": {
        "id": "8v7Kzs_X1s49"
      },
      "source": [
        "# **NN模式建立**"
      ]
    },
    {
      "cell_type": "markdown",
      "metadata": {
        "id": "op2c92qz6rue"
      },
      "source": [
        "## **模式執行與評估 (學習調整以下的數字)**"
      ]
    },
    {
      "cell_type": "code",
      "metadata": {
        "id": "PXUwMxlA-LSl"
      },
      "source": [
        "nn=MLPRegressor(hidden_layer_sizes=(10),  #預設值1層,數目100\n",
        "         activation='logistic',  #{'identity'無，'logistic'為sigmoid，'tanh'，'relu'}，預設='relu'\n",
        "         solver='sgd',   #{'lbfgs'牛頓，'sgd'隨機梯度，'adam'隨機梯度優化}，預設='adam'\n",
        "         batch_size='auto',  #'auto'為min(200～樣本數)\n",
        "         learning_rate='constant',  #constant固定'，'invscaling隨著時間遞減'，'adaptive誤差減少時不改變'}，預設 ='constant' \n",
        "         learning_rate_init=0.001, #優化器為sgd、adam使用\n",
        "         power_t=0.5,     # 優化器為sgd，則可以設定強化學習率   \n",
        "         max_iter=200,    #訓練次數\n",
        "         shuffle=True,    #隨機設定權重\n",
        "         random_state=1,   #隨機的基礎值\n",
        "         momentum=0.9)"
      ],
      "execution_count": 14,
      "outputs": []
    },
    {
      "cell_type": "code",
      "metadata": {
        "id": "P6sJx0B-6Z0N"
      },
      "source": [
        "nn.fit(X_train, y_train)\n",
        "y_pred=nn.predict(X_train)"
      ],
      "execution_count": 15,
      "outputs": []
    },
    {
      "cell_type": "code",
      "metadata": {
        "id": "Q6kv6eMd8r4H",
        "colab": {
          "base_uri": "https://localhost:8080/"
        },
        "outputId": "18332ef8-421c-4ee5-82f1-0d0bc7ed4140"
      },
      "source": [
        "from sklearn.metrics import mean_squared_error\n",
        "from sklearn.metrics import mean_absolute_error\n",
        "from math import sqrt\n",
        "import numpy as np\n",
        "\n",
        "MSE = mean_squared_error(y_train, y_pred)\n",
        "print('MSE=',MSE)\n",
        "RMSE =np.sqrt(MSE)\n",
        "print('RMSE=',RMSE)\n",
        "MAE= mean_absolute_error(y_train, y_pred)\n",
        "print('MAE=',MAE)\n",
        "\n",
        "R2=1-MSE/np.var(y_train)\n",
        "print(\"R2:\", R2)"
      ],
      "execution_count": null,
      "outputs": [
        {
          "output_type": "stream",
          "name": "stdout",
          "text": [
            "MSE= 0.013282624073080864\n",
            "RMSE= 0.11525026712802389\n",
            "MAE= 0.08269245168435227\n",
            "R2: -0.022171535280032906\n"
          ]
        }
      ]
    },
    {
      "cell_type": "markdown",
      "metadata": {
        "id": "wxpNa4_A8GDf"
      },
      "source": [
        "## **測試結果**"
      ]
    },
    {
      "cell_type": "code",
      "metadata": {
        "id": "HhWX57yl9S6O",
        "colab": {
          "base_uri": "https://localhost:8080/"
        },
        "outputId": "c2043ee2-30f6-47b1-f2db-d80fe5b4147e"
      },
      "source": [
        "y_pred=nn.predict(X_test)\n",
        "y_pred"
      ],
      "execution_count": null,
      "outputs": [
        {
          "output_type": "execute_result",
          "data": {
            "text/plain": [
              "array([0.43118663, 0.43690021, 0.42437153, 0.43384784, 0.43004176,\n",
              "       0.43701367, 0.4311619 , 0.4248952 , 0.41203742, 0.43834605,\n",
              "       0.42916903, 0.41487008, 0.42268299, 0.43832946, 0.42695385,\n",
              "       0.43756954, 0.42601235, 0.42890997, 0.42775482, 0.4319757 ,\n",
              "       0.44335214, 0.42971682, 0.42480662, 0.43262756, 0.42825678,\n",
              "       0.44006542, 0.41784597, 0.4141388 , 0.42021893, 0.42883369,\n",
              "       0.43725671, 0.43287846, 0.42798163, 0.41068132, 0.43532445,\n",
              "       0.42211343, 0.41939735, 0.43605926, 0.42204937, 0.43910784,\n",
              "       0.43646654, 0.44052737, 0.42440019, 0.44337111, 0.43288511,\n",
              "       0.4301748 , 0.43010711, 0.41445571, 0.43511763, 0.44289291,\n",
              "       0.43530712, 0.41591666, 0.41073393, 0.41750789, 0.42754102,\n",
              "       0.44480744, 0.42361568, 0.43189366, 0.41011464, 0.42406075,\n",
              "       0.42760514, 0.41710375, 0.44331519, 0.43312028, 0.41816646,\n",
              "       0.42903151, 0.42398831, 0.42669543, 0.44028312, 0.43618924,\n",
              "       0.42841194, 0.43779669, 0.40159978, 0.41442709, 0.42064062,\n",
              "       0.38511777, 0.4106858 , 0.43980985, 0.42886883, 0.44135989,\n",
              "       0.43708405, 0.44115819, 0.42893444, 0.44201642, 0.43968813,\n",
              "       0.42820114, 0.43789876, 0.42664446, 0.43023698, 0.41754026,\n",
              "       0.44301628, 0.4237418 , 0.44113889, 0.43634216, 0.44424224,\n",
              "       0.4309444 , 0.424107  , 0.43417191, 0.4442319 , 0.43003165,\n",
              "       0.43419095, 0.43096281, 0.4358953 , 0.41903275, 0.43850982,\n",
              "       0.43295616, 0.43160067, 0.4388082 , 0.43171757, 0.43935323,\n",
              "       0.4306224 , 0.431626  , 0.42508873, 0.43300361, 0.43225675,\n",
              "       0.43243865, 0.43124245, 0.42486664, 0.40967299, 0.42995694,\n",
              "       0.4164851 , 0.43144383, 0.43075919, 0.41047458, 0.43774109,\n",
              "       0.43567949, 0.41671774, 0.44320663, 0.40424737, 0.43156524,\n",
              "       0.42492035, 0.42689153, 0.43675687, 0.42572224, 0.43352237,\n",
              "       0.4064542 , 0.42202959, 0.43473285, 0.42504354, 0.43244706,\n",
              "       0.42434677, 0.42362728, 0.43316295, 0.4155717 , 0.43100417,\n",
              "       0.43228607, 0.43317189, 0.42168769, 0.41539564, 0.42680515,\n",
              "       0.43452818, 0.43923636, 0.4277021 , 0.42082776, 0.43536031,\n",
              "       0.43179092, 0.43819809, 0.43486645, 0.43938506, 0.43026373,\n",
              "       0.43117994, 0.41554714, 0.43132995, 0.43432462, 0.43073121,\n",
              "       0.40921857, 0.43750274])"
            ]
          },
          "metadata": {},
          "execution_count": 17
        }
      ]
    },
    {
      "cell_type": "code",
      "metadata": {
        "id": "QrpDRwWBVdHA",
        "colab": {
          "base_uri": "https://localhost:8080/"
        },
        "outputId": "8fbe0f08-b424-4690-f151-79253f619370"
      },
      "source": [
        "from sklearn.metrics import mean_squared_error\n",
        "from sklearn.metrics import mean_absolute_error\n",
        "from math import sqrt\n",
        "import numpy as np\n",
        "\n",
        "MSE = mean_squared_error(y_test, y_pred)\n",
        "print('MSE=',MSE)\n",
        "RMSE =np.sqrt(MSE)\n",
        "print('RMSE=',RMSE)\n",
        "MAE= mean_absolute_error(y_test, y_pred)\n",
        "print('MAE=',MAE)\n",
        "\n",
        "R2=1-MSE/np.var(y_test)\n",
        "print(\"R2:\", R2)\n"
      ],
      "execution_count": null,
      "outputs": [
        {
          "output_type": "stream",
          "name": "stdout",
          "text": [
            "MSE= 0.019394068409009365\n",
            "RMSE= 0.1392625879732578\n",
            "MAE= 0.10017106426996207\n",
            "R2: -0.053248698792018656\n"
          ]
        }
      ]
    },
    {
      "cell_type": "code",
      "metadata": {
        "id": "2EUqN6AoOeQC",
        "colab": {
          "base_uri": "https://localhost:8080/"
        },
        "outputId": "7d7ffe5b-15d0-43f7-caaa-0672bd1f277b"
      },
      "source": [
        "ytest = []\n",
        "for value in y_test:\n",
        "    ytest.append(value)\n",
        "count=0\n",
        "errvalue=abs((ytest-y_pred)/ytest)\n",
        "errvalue"
      ],
      "execution_count": null,
      "outputs": [
        {
          "output_type": "execute_result",
          "data": {
            "text/plain": [
              "array([0.46101672, 0.29074641, 0.46672184, 0.30677054, 0.2094821 ,\n",
              "       0.28902335, 0.46104763, 0.37358367, 0.39760612, 0.77707854,\n",
              "       0.03917385, 0.33541866, 0.04970937, 0.14946532, 0.12356277,\n",
              "       0.13409727, 0.56622178, 0.16446108, 0.1645414 , 0.02120315,\n",
              "       0.45839509, 0.01668016, 0.45481722, 0.18062962, 0.32094591,\n",
              "       0.103843  , 0.19645012, 0.10930034, 0.47472635, 0.27886711,\n",
              "       0.0438993 , 0.15127244, 0.40558109, 0.48664835, 0.19780508,\n",
              "       0.02888021, 0.3051784 , 0.33487521, 0.72030996, 0.22510381,\n",
              "       0.04562709, 0.07972398, 0.40836403, 0.54664326, 0.08583217,\n",
              "       0.04547012, 0.16645915, 0.11813585, 0.03735042, 0.22751243,\n",
              "       0.2133004 , 0.02213949, 0.12427176, 0.25252362, 0.28264931,\n",
              "       0.40170409, 0.04510445, 0.09803469, 0.05066059, 0.18673717,\n",
              "       0.25243859, 0.28208121, 0.11336963, 0.07920336, 0.71379696,\n",
              "       0.14193698, 0.09145367, 0.18089139, 0.57996329, 0.14786644,\n",
              "       0.10037304, 0.06953586, 0.11555491, 0.06445306, 0.14964839,\n",
              "       0.12827472, 0.48664276, 0.35187458, 0.01935483, 0.92453436,\n",
              "       0.2805197 , 0.12158859, 0.18350046, 0.30516656, 0.24440031,\n",
              "       0.07768746, 0.04593655, 0.2381349 , 0.07009302, 0.19982836,\n",
              "       0.55991641, 0.24143107, 0.05470244, 0.20181314, 1.22121115,\n",
              "       0.46131951, 0.29300911, 0.2172382 , 1.22115945, 0.04376615,\n",
              "       0.21908111, 0.0738276 , 0.01214082, 0.04184587, 0.11108904,\n",
              "       0.02193641, 0.04230619, 0.27509665, 0.40914564, 0.20789686,\n",
              "       0.09852647, 0.44473498, 0.08122038, 0.08250892, 0.24076688,\n",
              "       0.01352806, 0.00482512, 0.18503842, 0.0909623 , 0.05434691,\n",
              "       0.33488812, 0.23504909, 0.04553202, 0.27392472, 0.05387378,\n",
              "       0.00981933, 0.49539853, 0.64556916, 0.31249135, 0.03091637,\n",
              "       0.00719545, 0.28692958, 0.07399222, 0.07451694, 0.18306083,\n",
              "       0.12902677, 0.09822747, 0.01890509, 0.43777313, 0.06689241,\n",
              "       0.36008578, 0.39250391, 0.31171145, 0.09746046, 0.07111167,\n",
              "       0.08432957, 0.06868063, 0.16990614, 0.01481016, 0.18132005,\n",
              "       0.18507682, 0.00774921, 0.46537239, 0.4739653 , 0.04653917,\n",
              "       0.00355942, 0.09185572, 0.19908027, 0.1853913 , 0.07800635,\n",
              "       0.09994876, 0.1095419 , 0.46083757, 0.10999059, 0.07169995,\n",
              "       0.01291729, 0.13538767])"
            ]
          },
          "metadata": {},
          "execution_count": 19
        }
      ]
    },
    {
      "cell_type": "code",
      "metadata": {
        "id": "DjuOp3AlPdpP",
        "colab": {
          "base_uri": "https://localhost:8080/"
        },
        "outputId": "72dc1e2a-f89f-436a-b355-ee8e0e4beb14"
      },
      "source": [
        "threshold=0.01  #門檻值\n",
        "for i in range(len(errvalue)):\n",
        "  if errvalue[i]<0.01:           \n",
        "    count=count+1\n",
        "print(\"通過門檻筆數\",count)\n",
        "print(\"通過門檻百分比\",count/len(errvalue))\n"
      ],
      "execution_count": null,
      "outputs": [
        {
          "output_type": "stream",
          "name": "stdout",
          "text": [
            "通過門檻筆數 5\n",
            "通過門檻百分比 0.029940119760479042\n"
          ]
        }
      ]
    },
    {
      "cell_type": "code",
      "metadata": {
        "colab": {
          "base_uri": "https://localhost:8080/"
        },
        "id": "rwtjFGXOA0De",
        "outputId": "f8f612f2-c886-4981-b9dd-02a90fbf4ba0"
      },
      "source": [
        "\n"
      ],
      "execution_count": null,
      "outputs": [
        {
          "output_type": "execute_result",
          "data": {
            "text/plain": [
              "167"
            ]
          },
          "metadata": {},
          "execution_count": 23
        }
      ]
    },
    {
      "cell_type": "markdown",
      "metadata": {
        "id": "LHuwuClb3s2T"
      },
      "source": [
        "# **DNN模式建立**"
      ]
    },
    {
      "cell_type": "code",
      "metadata": {
        "id": "7_cC_e9d3zaK",
        "colab": {
          "base_uri": "https://localhost:8080/",
          "height": 134
        },
        "outputId": "1d0ce0ad-1970-4006-f5ac-6b7578ce2cc6"
      },
      "source": [
        "dnn="
      ],
      "execution_count": null,
      "outputs": [
        {
          "output_type": "error",
          "ename": "SyntaxError",
          "evalue": "ignored",
          "traceback": [
            "\u001b[0;36m  File \u001b[0;32m\"<ipython-input-21-f5079f396bc6>\"\u001b[0;36m, line \u001b[0;32m1\u001b[0m\n\u001b[0;31m    dnn=\u001b[0m\n\u001b[0m        ^\u001b[0m\n\u001b[0;31mSyntaxError\u001b[0m\u001b[0;31m:\u001b[0m invalid syntax\n"
          ]
        }
      ]
    },
    {
      "cell_type": "markdown",
      "metadata": {
        "id": "FmoibOJF39P6"
      },
      "source": [
        "## **模式執行與評估**"
      ]
    },
    {
      "cell_type": "code",
      "metadata": {
        "id": "r0VXY1EM39P7"
      },
      "source": [
        ""
      ],
      "execution_count": null,
      "outputs": []
    },
    {
      "cell_type": "markdown",
      "metadata": {
        "id": "rvouS65O39P8"
      },
      "source": [
        "## **測試結果**"
      ]
    },
    {
      "cell_type": "code",
      "metadata": {
        "id": "NN7gdy1l39P8"
      },
      "source": [
        ""
      ],
      "execution_count": null,
      "outputs": []
    },
    {
      "cell_type": "code",
      "metadata": {
        "id": "SOukE9dH39P8"
      },
      "source": [
        ""
      ],
      "execution_count": null,
      "outputs": []
    }
  ]
}